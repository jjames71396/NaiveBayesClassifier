{
  "nbformat": 4,
  "nbformat_minor": 0,
  "metadata": {
    "colab": {
      "name": "NaiveBayesClassifierBlog.ipynb",
      "provenance": [],
      "collapsed_sections": []
    },
    "kernelspec": {
      "name": "python3",
      "display_name": "Python 3"
    },
    "language_info": {
      "name": "python"
    }
  },
  "cells": [
    {
      "cell_type": "markdown",
      "metadata": {
        "id": "EBuv0FAbAJh7"
      },
      "source": [
        "<h1 style=\"text-align: center;\">Naive Bayes Sentiment Classification</h1>\n",
        "<p>This blog post will introduce the concept of the Naive Bayes Classifier and evaluate its predictive capabilities on the labelled imdb data for sentiment analysis. The dataset can be found on Kaggle at the following link, https://www.kaggle.com/marklvl/sentiment-labell. The methods for performing experimentation on the Naive Bayes Classifier are referenced from the Data Mining-5334 assignment found at https://docs.google.com/document/d/1bmCm9TXwqp5tX7lpg14NkaB3dBSg15cCC7ICxeB-vB4/edit. All code and experiment results are my contribution to the methodology given. Numpy is the primary package used for handling the data along with base python structures. </p>"
      ]
    },
    {
      "cell_type": "code",
      "metadata": {
        "id": "eP3Jhwj4BROp"
      },
      "source": [
        "import numpy as np"
      ],
      "execution_count": 1,
      "outputs": []
    },
    {
      "cell_type": "markdown",
      "metadata": {
        "id": "YRZj1VHwBUY9"
      },
      "source": [
        "<p>For the classifier that will be built in this blog, we only require the imdb_labelled.txt text file from Kaggle. As the classifier will predict for a given line of text the sentiment, we can simply just load the lines of the text file into an array as follows. </p>"
      ]
    },
    {
      "cell_type": "code",
      "metadata": {
        "id": "IwHZ3AkKByI-"
      },
      "source": [
        "data = []\n",
        "with open('imdb_labelled.txt') as f:\n",
        "    data = f.readlines()"
      ],
      "execution_count": 2,
      "outputs": []
    },
    {
      "cell_type": "markdown",
      "metadata": {
        "id": "Qs5rgC31B0c0"
      },
      "source": [
        "<p>Next we will split our dataset into train/dev/test datasets. We will reserve 10% of the data for testing, this data will never be seen by any model and is solely used for final evaluation. The remaining 90% of the dataset are split into test and dev sets with 72% being used for training and 18% used for development/validation. The value 18% is used for development as it can split 90% evenly 5 ways which will be useful for 5-fold cross validation later. </p>"
      ]
    },
    {
      "cell_type": "code",
      "metadata": {
        "id": "CekoUcV6C86D"
      },
      "source": [
        "train_data = data[:720]\n",
        "\n",
        "dev_data = data[720:900]\n",
        "\n",
        "test_data = data[900:]"
      ],
      "execution_count": 3,
      "outputs": []
    },
    {
      "cell_type": "markdown",
      "metadata": {
        "id": "YzQ0mI_oDBXT"
      },
      "source": [
        "<p>The classifier that will be used to predict the sentiment for this dataset will be the Naive Bayes Classifier. This classifier works by using Baye's theorem to calculate the probability of the sentiment being positive given a word. This is abastracted to allow for a full sentence or multiple words by making a naive assumption about the conditional independence of the words, P(Sentiment|word1, word2) = P(word1|Sentiment) * P(word2|sentiment) * P(Sentiment) / P(word1, word2). This assumption allows the probabilities of positive and negative sentiments given the sentence to be calculated and compared. The classifier then predicts the class that has the higher probability value. In the unlikely case of a tie, we arbitrarily choose negative sentiment as the prediction. In the implementation following we leave out the calculation of the denominator as this will be a constant between predicting the likelihood of positive sentiment vs negative sentiment and thus will not impact the classification results.</p> <p>Our classifier trains on the provided training data via the train function. This function takes the sentence as input, does some minor filtering (replace commas and periods with space and make all words lower case), and places the words from the sentence into a temporary set. As the words are in a set, we are only looking for a single occurrence of a word per line. The labels are included at the end of the input line of the training data and is parsed by the model and removed from the line as to not include the value in the dictionary. Finally the set is iterated over and each word is stored in the dictionary as a 3-dimensional array; this array stores the total count of the word in all documents, the count of the word in positive documents, and the count of the word in negative documents. If the word is already present in the dictionary the appropriate values of the array are incremented based on the sentiment label. The implementation as described above is provided below.</p>"
      ]
    },
    {
      "cell_type": "code",
      "metadata": {
        "id": "Z1Q53gRoGxV0"
      },
      "source": [
        "class NBC():\n",
        "  def __init__(self):\n",
        "    self.model_dict = {}\n",
        "    self.pos_docs = 0\n",
        "    self.neg_docs = 0\n",
        "    self.tot_docs = 0\n",
        "\n",
        "  def train(self, train_data):\n",
        "    for data in train_data:\n",
        "      label = data[len(data)-2]\n",
        "      positive = True\n",
        "      data = data[:len(data)-3]\n",
        "      words = data.split()\n",
        "      for i in range(len(words)):\n",
        "        words[i] = words[i].replace(\".\",\"\").replace(\",\",\"\").lower()\n",
        "      words = set(words)\n",
        "\n",
        "\n",
        "      if label == '1':\n",
        "        self.pos_docs += 1\n",
        "      elif label == '0':\n",
        "        self.neg_docs += 1\n",
        "        positive = False\n",
        "      self.tot_docs += 1\n",
        "\n",
        "      for word in words:\n",
        "        if word not in self.model_dict:\n",
        "          if positive:\n",
        "            self.model_dict[word] = [1, 1, 0]\n",
        "          else:\n",
        "            self.model_dict[word] = [1, 0, 1]\n",
        "        else:\n",
        "          self.model_dict[word][0] += 1\n",
        "          if positive:\n",
        "            self.model_dict[word][1] += 1\n",
        "          else:\n",
        "            self.model_dict[word][2] += 1\n",
        "\n",
        "  def word_probability(self, word):\n",
        "    return model.model_dict[word][0]/model.tot_docs\n",
        "\n",
        "  def word_given_positive(self, word, smoothing=False):\n",
        "    if smoothing:\n",
        "      return (model.model_dict[word][1] + 1)/(model.pos_docs + 2)\n",
        "    else:\n",
        "      return model.model_dict[word][1]/model.pos_docs\n",
        "\n",
        "  def word_given_negative(self, word, smoothing=False):\n",
        "    if smoothing:\n",
        "      return (model.model_dict[word][2] + 1)/(model.neg_docs + 2)\n",
        "    else:\n",
        "      return model.model_dict[word][2]/model.neg_docs\n",
        "\n",
        "  def positive(self, word, smoothing=False):\n",
        "    return ((self.word_given_positive(word, smoothing=smoothing))*(self.word_probability(word)))/(model.pos_docs/model.tot_docs)\n",
        "\n",
        "  def negative(self, word, smoothing=False):\n",
        "    return ((self.word_given_negative(word, smoothing=smoothing))*(self.word_probability(word)))/(model.neg_docs/model.tot_docs)\n",
        "\n",
        "  def forward(self, test_data, smoothing=False):\n",
        "    words = test_data.split()\n",
        "    for i in range(len(words)):\n",
        "        words[i] = words[i].replace(\".\",\"\").replace(\",\",\"\").lower()\n",
        "    words = set(words)\n",
        "    pos = model.pos_docs/model.tot_docs\n",
        "    neg = model.neg_docs/model.tot_docs\n",
        "    for word in words:\n",
        "      if word in self.model_dict:\n",
        "        pos = pos*self.word_given_positive(word, smoothing)\n",
        "        neg = neg*self.word_given_negative(word, smoothing)\n",
        "      else:\n",
        "        if smoothing:\n",
        "          pos = pos*(1/(model.pos_docs + 2))\n",
        "          neg = neg*(1/(model.neg_docs + 2))\n",
        "        else:\n",
        "          pos = 0\n",
        "          neg = 0\n",
        "\n",
        "    return pos, neg\n",
        "\n",
        "#Return True for positive sentiment, False for negative sentiment\n",
        "  def predict(self, test_data, smoothing=False):\n",
        "    pos, neg = self.forward(test_data, smoothing=smoothing)\n",
        "    if pos > neg:\n",
        "      return True\n",
        "    else:\n",
        "      return False\n",
        "\n",
        "  def test(self, test_data, labels, smoothing=False):\n",
        "    correct = 0\n",
        "    total = 0\n",
        "    for i in range(len(test_data)):\n",
        "      if labels[i] == '1':\n",
        "        label = True\n",
        "      else:\n",
        "        label = False\n",
        "      prediction = self.predict(test_data[i], smoothing=smoothing)\n",
        "      if label == prediction:\n",
        "        correct += 1\n",
        "      total += 1\n",
        "\n",
        "    return correct/total"
      ],
      "execution_count": 4,
      "outputs": []
    },
    {
      "cell_type": "markdown",
      "metadata": {
        "id": "P2R9C8GiGysK"
      },
      "source": [
        "<p>Now we can initialize our model and train it on the training data from our previous split. </p>"
      ]
    },
    {
      "cell_type": "code",
      "metadata": {
        "id": "oSmTD8zmG_7c"
      },
      "source": [
        "model = NBC()\n",
        "model.train(train_data)"
      ],
      "execution_count": 5,
      "outputs": []
    },
    {
      "cell_type": "markdown",
      "metadata": {
        "id": "UEea0NDmHTjE"
      },
      "source": [
        "<p>Now that the model is trained, we can calculate some probabilities based on the given data and see what our model has learned. First we will look at the probability of the occurrence of the word 'the'. </p>"
      ]
    },
    {
      "cell_type": "code",
      "metadata": {
        "colab": {
          "base_uri": "https://localhost:8080/"
        },
        "id": "heJ5Wo2cHl1p",
        "outputId": "144abc12-a234-446d-da7b-14df746d4599"
      },
      "source": [
        "#P('the')\n",
        "prob = model.word_probability('the')\n",
        "print(prob)"
      ],
      "execution_count": 6,
      "outputs": [
        {
          "output_type": "stream",
          "name": "stdout",
          "text": [
            "0.49166666666666664\n"
          ]
        }
      ]
    },
    {
      "cell_type": "markdown",
      "metadata": {
        "id": "fNoriptOHmzi"
      },
      "source": [
        "<p>We get a result of .4917 or a 49.17% chance of the word 'the' occuring in a sentence. Next we will look at the probability of the word 'the' appearing given that the document (sentence) is of positive sentiment as well as the probability of 'the' occuring given a negative document.  </p>"
      ]
    },
    {
      "cell_type": "code",
      "metadata": {
        "colab": {
          "base_uri": "https://localhost:8080/"
        },
        "id": "kwIgThDdIS4t",
        "outputId": "cd2ea289-a008-452e-e848-5ce7e1f54aa8"
      },
      "source": [
        "#P('the'|Positive)\n",
        "prob = model.word_given_positive('the')\n",
        "print(prob)\n",
        "\n",
        "#P('the'|Negative)\n",
        "prob = model.word_given_negative('the')\n",
        "print(prob)"
      ],
      "execution_count": 7,
      "outputs": [
        {
          "output_type": "stream",
          "name": "stdout",
          "text": [
            "0.47112462006079026\n",
            "0.5089514066496164\n"
          ]
        }
      ]
    },
    {
      "cell_type": "markdown",
      "metadata": {
        "id": "iumOhaHyIWVe"
      },
      "source": [
        "<p>We get a result of .4711 or a 47.11% chance of the word 'the' appearing given a document's sentiment is positive and .5173 or a 51.73% chance of 'the' appearing given a document's sentiment is negative. </p>"
      ]
    },
    {
      "cell_type": "markdown",
      "metadata": {
        "id": "fcHWCB6kIoc3"
      },
      "source": [
        "<p>As the model only learns on the 72% of data that is reserved for testing, it may not have seen some words that will be presented to it in the development of test datasets. This will cause the probability of the sentiment given this word to be zero and the classifier will not be able to account for any other words in the sentence. One approach to fixing this issue is to perform cross validation to find which training dataset results in the best predictions. We will perform 5-fold cross validation on our model by splitting the 90% of the dataset reserved for train/dev evenly into 5 folds. The model will take 1 fold (18% of data) as validation and the remaining 4 folds as the training data. The model will then be validated by calculating the accuracy of predictions on the validation set for all 5 models to be trained. The implementation can be seen below.</p>"
      ]
    },
    {
      "cell_type": "code",
      "metadata": {
        "id": "nLEnnMykJ7DS"
      },
      "source": [
        "def validate(train_data, dev_data, smoothing=False):\n",
        "  model = NBC()\n",
        "  model.train(train_data)\n",
        "  labels = []\n",
        "  for x in dev_data:\n",
        "    labels.append(x[len(x)-2])\n",
        "    \n",
        "  return model.test(dev_data, labels, smoothing=smoothing)"
      ],
      "execution_count": 8,
      "outputs": []
    },
    {
      "cell_type": "code",
      "metadata": {
        "id": "QobsjP9CJ9bk"
      },
      "source": [
        "def FiveFoldCrossValidation(data, smoothing=False):\n",
        "  accuracy = []\n",
        "  train_data = data[180:900]\n",
        "  dev_data = data[:180]\n",
        "\n",
        "  accuracy.append(validate(train_data, dev_data, smoothing=smoothing))\n",
        "\n",
        "  train_data = data[:180] + data[360:900]\n",
        "  dev_data = data[180:360]\n",
        "\n",
        "  accuracy.append(validate(train_data, dev_data, smoothing=smoothing))\n",
        "\n",
        "  train_data = data[:360] + data[540:900]\n",
        "  dev_data = data[360:540]\n",
        "\n",
        "  accuracy.append(validate(train_data, dev_data, smoothing=smoothing))\n",
        "\n",
        "  train_data = data[:540] + data[720:900]\n",
        "  dev_data = data[540:720]\n",
        "\n",
        "  accuracy.append(validate(train_data, dev_data, smoothing=smoothing))\n",
        "\n",
        "  train_data = data[:720]\n",
        "  dev_data = data[720:900]\n",
        "\n",
        "  accuracy.append(validate(train_data, dev_data, smoothing=smoothing))\n",
        "\n",
        "  return accuracy"
      ],
      "execution_count": 9,
      "outputs": []
    },
    {
      "cell_type": "code",
      "metadata": {
        "colab": {
          "base_uri": "https://localhost:8080/"
        },
        "id": "W2GrxVM5KAty",
        "outputId": "4b6656e9-d1af-4835-e4d9-4aec61d29762"
      },
      "source": [
        "accuracy = FiveFoldCrossValidation(data)\n",
        "print(accuracy)"
      ],
      "execution_count": 10,
      "outputs": [
        {
          "output_type": "stream",
          "name": "stdout",
          "text": [
            "[0.6666666666666666, 0.65, 0.6277777777777778, 0.5777777777777777, 0.45555555555555555]\n"
          ]
        }
      ]
    },
    {
      "cell_type": "markdown",
      "metadata": {
        "id": "BnVtbxCtKBER"
      },
      "source": [
        "<p>After performing 5-fold cross validation we get the resulting accuracies of our 5 models as [0.6666666666666666, 0.65, 0.6277777777777778, 0.5777777777777777, 0.45555555555555555]. We can see that the first split where the first 18% of the dataset is reserved for validation performs the best. Our accuracy values are still fairly low and when inspecting the model to determine why this is we see that it is due to the problem of unseen words resulting in zero probabilities. As this issue is still not solved after optimizing our training dataset, we will need to look into another method of solving this. </p>"
      ]
    },
    {
      "cell_type": "markdown",
      "metadata": {
        "id": "4alTKV_yK1FA"
      },
      "source": [
        "<p>In order to fix the zero probability problem for unseen words we implement the technique known as smoothing. Smoothing allows us to artificially add 2 new documents for positive sentiment where one document contains all words in the dictionary and the other contains no words in the dictionary (as this counts for all possibilities for every attribute since a word can either be included or discluded). The same is done for the negative sentiment as well. As the documents are not real, they are not actually added to the dataset. Instead the documents are accounted for in the calculation of the probability for a word given the sentiment where the numerator (number of times a word appeared in documents of the given sentiment) is increased by one and the denominator (number of documents of the given sentiment) is increased by 2. After implementing smoothing, we perform 5-fold cross validation again to get the optimal hyperparameters for our model. </p>"
      ]
    },
    {
      "cell_type": "code",
      "metadata": {
        "colab": {
          "base_uri": "https://localhost:8080/"
        },
        "id": "Z8zGJIq3MTeJ",
        "outputId": "43afbe6e-116b-4d12-a1cf-dfcce8005a64"
      },
      "source": [
        "smoothing_accuracy = FiveFoldCrossValidation(data, smoothing=True)\n",
        "print(smoothing_accuracy)"
      ],
      "execution_count": 11,
      "outputs": [
        {
          "output_type": "stream",
          "name": "stdout",
          "text": [
            "[0.8666666666666667, 0.8611111111111112, 0.8666666666666667, 0.9, 0.7277777777777777]\n"
          ]
        }
      ]
    },
    {
      "cell_type": "markdown",
      "metadata": {
        "id": "ixQPpqggMb0i"
      },
      "source": [
        "<p>After performing cross validation we get the resulting accuracies of the 5 models to be [0.8666666666666667, 0.8611111111111112, 0.8666666666666667, 0.9, 0.7277777777777777]. We can see that all of our models perform much better now that we are using the smoothing technique. Our best model gave a 90% accuracy on the validation set as the 4th fold. We use this model as our best and find the top ten words that predict positive and negative sentiments as well as their probabilities (P(Sentiment|word)). </p>"
      ]
    },
    {
      "cell_type": "code",
      "metadata": {
        "id": "D_hI-hm3M_W4"
      },
      "source": [
        "train_data = data[:540] + data[720:900]\n",
        "dev_data = data[540:720]\n",
        "\n",
        "model = NBC()\n",
        "model.train(train_data)\n",
        "\n",
        "pos = []\n",
        "neg = []\n",
        "for word in model.model_dict:\n",
        "  pos.append((model.positive(word, smoothing=True), word))\n",
        "  neg.append((model.negative(word, smoothing=True), word))"
      ],
      "execution_count": 12,
      "outputs": []
    },
    {
      "cell_type": "code",
      "metadata": {
        "id": "UvB64YbYNBfS"
      },
      "source": [
        "def sort_help(x):\n",
        "  return x[0]\n",
        "\n",
        "pos.sort(reverse=True, key=sort_help)\n",
        "neg.sort(reverse=True, key=sort_help)"
      ],
      "execution_count": 13,
      "outputs": []
    },
    {
      "cell_type": "code",
      "metadata": {
        "colab": {
          "base_uri": "https://localhost:8080/"
        },
        "id": "_pG8IiSvNFSi",
        "outputId": "031c8edb-2623-4893-d355-72c43349af80"
      },
      "source": [
        "print(pos[:10])\n",
        "print(neg[:10])"
      ],
      "execution_count": 14,
      "outputs": [
        {
          "output_type": "stream",
          "name": "stdout",
          "text": [
            "[(0.5334168650545044, 'the'), (0.2501942112517228, 'a'), (0.24207492795389043, 'and'), (0.1912709351376185, 'of'), (0.18322683038884016, 'is'), (0.15394896211836445, 'this'), (0.115774965543165, 'i'), (0.10162469197677818, 'it'), (0.09197677818151442, 'to'), (0.08896128304723717, 'in')]\n",
            "[(0.506206896551724, 'the'), (0.17875862068965517, 'a'), (0.1724491600353669, 'and'), (0.16499381078691425, 'of'), (0.14500442086648982, 'is'), (0.12767462422634834, 'this'), (0.09687002652519892, 'i'), (0.09276038903625108, 'it'), (0.06930503978779841, 'in'), (0.06878160919540229, 'to')]\n"
          ]
        }
      ]
    },
    {
      "cell_type": "markdown",
      "metadata": {
        "id": "uGg5HmrkNOIo"
      },
      "source": [
        "<p>We can see the top ten words for positive sentiment and the probability P(Positive|word) are [(0.5334168650545044, 'the'), (0.2501942112517228, 'a'), (0.24207492795389043, 'and'), (0.1912709351376185, 'of'), (0.18322683038884016, 'is'), (0.15394896211836445, 'this'), (0.115774965543165, 'i'), (0.10162469197677818, 'it'), (0.09197677818151442, 'to'), (0.08896128304723717, 'in')]\n",
        ". The top ten words for negative sentiment and the probability P(Negative|word) are [(0.506206896551724, 'the'), (0.17875862068965517, 'a'), (0.1724491600353669, 'and'), (0.16499381078691425, 'of'), (0.14500442086648982, 'is'), (0.12767462422634834, 'this'), (0.09687002652519892, 'i'), (0.09276038903625108, 'it'), (0.06930503978779841, 'in'), (0.06878160919540229, 'to')].\n",
        " </p>"
      ]
    },
    {
      "cell_type": "markdown",
      "metadata": {
        "id": "Q_L9e2wsNq_l"
      },
      "source": [
        "<p>It can be seen from the results that the same set of words are the top predictors for both positive and negative sentiment. This is because these are very common words in the English language. These words are included in a set of words called \"Stop Words\" and these words are typically filtered out of the dataset. Although they are typically filtered from models, our model still performs well with them included as they influence the positive and negative sentiment predictions near equally. </p>"
      ]
    },
    {
      "cell_type": "markdown",
      "metadata": {
        "id": "ZLIKS9fvOAlv"
      },
      "source": [
        "<p>Finally we evaluate our best model with the hyperparameters found from the 5-fold cross validation on the last 10% of the dataset that was withheld for testing. </p>"
      ]
    },
    {
      "cell_type": "code",
      "metadata": {
        "colab": {
          "base_uri": "https://localhost:8080/"
        },
        "id": "xXQwV9_XOSLv",
        "outputId": "9065a8c1-1b52-40ab-c35b-e8c3a0b593cf"
      },
      "source": [
        "test_labels = []\n",
        "for x in test_data:\n",
        "  test_labels.append(x[len(x)-2])\n",
        "model.test(test_data, test_labels, smoothing=True)"
      ],
      "execution_count": 15,
      "outputs": [
        {
          "output_type": "execute_result",
          "data": {
            "text/plain": [
              "0.71"
            ]
          },
          "metadata": {},
          "execution_count": 15
        }
      ]
    },
    {
      "cell_type": "markdown",
      "metadata": {
        "id": "0Btp3s_7OUYh"
      },
      "source": [
        "<p>The final model accuracy on the test data is .71 or 71%. The accuracy is pretty decent taking into consideration the naive assumption being made and that the data being predicted on has never been seen by any of the models trained in the development process. </p>"
      ]
    },
    {
      "cell_type": "markdown",
      "metadata": {
        "id": "FbMZx8xHQRMc"
      },
      "source": [
        "<h2>References</h2>\n",
        "<p>Assignment/Methods. https://docs.google.com/document/d/1bmCm9TXwqp5tX7lpg14NkaB3dBSg15cCC7ICxeB-vB4/edit </p>\n",
        "<p>Kaggle IMDB labelled dataset. https://www.kaggle.com/marklvl/sentiment-labelled-sentences-data-set </p>\n",
        "<p>Github. https://github.com/jjames71396/NaiveBayesClassifier </p>\n",
        "<p>Working Notebook. https://colab.research.google.com/drive/1XuhBSHC48XSjhW6L2XwD3lI_5Z9lT5Pg?usp=sharing  </p>"
      ]
    }
  ]
}